{
 "cells": [
  {
   "cell_type": "code",
   "execution_count": 50,
   "id": "initial_id",
   "metadata": {
    "collapsed": true,
    "ExecuteTime": {
     "end_time": "2024-05-22T12:58:17.018457700Z",
     "start_time": "2024-05-22T12:58:16.999617200Z"
    }
   },
   "outputs": [],
   "source": [
    "from __future__ import absolute_import\n",
    "\n",
    "import torch\n",
    "from torch import nn\n",
    "from torch.nn import functional as F\n",
    "import torchvision\n",
    "\n",
    "from aligned.HorizontalMaxPool2D import HorizontalMaxPool2d\n",
    "\n",
    "__all__ = ['ResNet50']\n",
    "\n",
    "class ResNet50(nn.Module):\n",
    "    def __init__(self, num_classes, loss={'softmax'}, aligned=False, **kwargs):\n",
    "        super().__init__()\n",
    "        self.loss = loss\n",
    "        resnet50 = torchvision.models.resnet50(pretrained=True)\n",
    "\n",
    "        self.base = nn.Sequential(*list(resnet50.children())[:-2])  #源代码\n",
    "        self.base2 = nn.Sequential(*list(resnet.children())[:5])  #源代码\n",
    "        #self.base = nn.Sequential(*list(resnet50.children())[:])\n",
    "        #self.base = nn.Sequential(*list(resnet50.children())[:])\n",
    "        self.classifier = nn.Linear(2048, num_classes)\n",
    "        self.feat_dim = 2048 # feature dimension\n",
    "        self.aligned = aligned\n",
    "        self.horizon_pool = HorizontalMaxPool2d()\n",
    "        self.custom_layers = nn.Sequential(\n",
    "            nn.Conv2d(256, 1024, kernel_size=3, stride=1, padding=1),\n",
    "            nn.MaxPool2d(kernel_size=2, stride=2),\n",
    "            nn.Conv2d(1024, 128, kernel_size=3, stride=1, padding=1),\n",
    "            nn.MaxPool2d(kernel_size=2, stride=2)\n",
    "        )\n",
    "        if self.aligned:\n",
    "            self.bn = nn.BatchNorm2d(2048)\n",
    "            self.relu = nn.ReLU(inplace=True)\n",
    "            self.conv1 = nn.Conv2d(2048, 128, kernel_size=1, stride=1, padding=0, bias=True)\n",
    "\n",
    "    def forward(self, x):\n",
    "\n",
    "        tmp=self.base2(x)\n",
    "        x = self.base(x)\n",
    "        if not self.training:\n",
    "            tmp=self.custom_layers(tmp)\n",
    "            tmp_merged = tmp.view(tmp.size(0), -1, tmp.size(-1))\n",
    "            # 添加新的维度，使其形状为 (32, 2048, 8, 1)\n",
    "            lf = tmp_merged.unsqueeze(-1)\n",
    "            #lf = self.horizon_pool(x)\n",
    "        if self.aligned and self.training:\n",
    "            lf = self.bn(x)\n",
    "            lf = self.relu(lf)\n",
    "            lf = self.horizon_pool(lf)\n",
    "            \n",
    "            lf = self.conv1(lf)\n",
    "        if self.aligned or not self.training:\n",
    "            lf = lf.view(lf.size()[0:3])\n",
    "            lf = lf / torch.pow(lf,2).sum(dim=1, keepdim=True).clamp(min=1e-12).sqrt()\n",
    "        x = F.avg_pool2d(x, x.size()[2:])\n",
    "        f = x.view(x.size(0), -1)#这一步是需要张平的，作用还是把（32,2048,1,1，）转换成（32，2048）\n",
    "        #f = 1. * f / (torch.norm(f, 2, dim=-1, keepdim=True).expand_as(f) + 1e-12)#这一步是数据归一化\n",
    "\n",
    "        if not self.training:#如果不是训练\n",
    "            return f,lf\n",
    "\n",
    "        y = self.classifier(f)\n",
    "        if self.loss == {'softmax'}:\n",
    "            return y\n",
    "        elif self.loss == {'metric'}:\n",
    "            if self.aligned: return  f, lf\n",
    "            return f\n",
    "        elif self.loss == {'softmax', 'metric'}:\n",
    "            if self.aligned: return y, f, lf\n",
    "            return y, f\n",
    "        else:\n",
    "            raise KeyError(\"Unsupported loss: {}\".format(self.loss))\n",
    "\n"
   ]
  },
  {
   "cell_type": "code",
   "execution_count": 51,
   "outputs": [
    {
     "name": "stdout",
     "output_type": "stream",
     "text": [
      "(tensor([[0.1787, 0.0075, 0.0544,  ..., 0.1257, 0.0158, 0.0109],\n",
      "        [0.1787, 0.0075, 0.0544,  ..., 0.1257, 0.0158, 0.0109],\n",
      "        [0.1787, 0.0075, 0.0544,  ..., 0.1257, 0.0158, 0.0109],\n",
      "        ...,\n",
      "        [0.1787, 0.0075, 0.0544,  ..., 0.1257, 0.0158, 0.0109],\n",
      "        [0.1787, 0.0075, 0.0544,  ..., 0.1257, 0.0158, 0.0109],\n",
      "        [0.1787, 0.0075, 0.0544,  ..., 0.1257, 0.0158, 0.0109]],\n",
      "       grad_fn=<ViewBackward>), tensor([[[0.0195, 0.0222, 0.0207,  ..., 0.0207, 0.0205, 0.0045],\n",
      "         [0.0250, 0.0262, 0.0254,  ..., 0.0254, 0.0251, 0.0076],\n",
      "         [0.0250, 0.0262, 0.0254,  ..., 0.0254, 0.0251, 0.0076],\n",
      "         ...,\n",
      "         [0.0348, 0.0230, 0.0231,  ..., 0.0231, 0.0243, 0.0320],\n",
      "         [0.0367, 0.0240, 0.0241,  ..., 0.0241, 0.0250, 0.0330],\n",
      "         [0.0355, 0.0210, 0.0211,  ..., 0.0211, 0.0215, 0.0341]],\n",
      "\n",
      "        [[0.0195, 0.0222, 0.0207,  ..., 0.0207, 0.0205, 0.0045],\n",
      "         [0.0250, 0.0262, 0.0254,  ..., 0.0254, 0.0251, 0.0076],\n",
      "         [0.0250, 0.0262, 0.0254,  ..., 0.0254, 0.0251, 0.0076],\n",
      "         ...,\n",
      "         [0.0348, 0.0230, 0.0231,  ..., 0.0231, 0.0243, 0.0320],\n",
      "         [0.0367, 0.0240, 0.0241,  ..., 0.0241, 0.0250, 0.0330],\n",
      "         [0.0355, 0.0210, 0.0211,  ..., 0.0211, 0.0215, 0.0341]],\n",
      "\n",
      "        [[0.0195, 0.0222, 0.0207,  ..., 0.0207, 0.0205, 0.0045],\n",
      "         [0.0250, 0.0262, 0.0254,  ..., 0.0254, 0.0251, 0.0076],\n",
      "         [0.0250, 0.0262, 0.0254,  ..., 0.0254, 0.0251, 0.0076],\n",
      "         ...,\n",
      "         [0.0348, 0.0230, 0.0231,  ..., 0.0231, 0.0243, 0.0320],\n",
      "         [0.0367, 0.0240, 0.0241,  ..., 0.0241, 0.0250, 0.0330],\n",
      "         [0.0355, 0.0210, 0.0211,  ..., 0.0211, 0.0215, 0.0341]],\n",
      "\n",
      "        ...,\n",
      "\n",
      "        [[0.0195, 0.0222, 0.0207,  ..., 0.0207, 0.0205, 0.0045],\n",
      "         [0.0250, 0.0262, 0.0254,  ..., 0.0254, 0.0251, 0.0076],\n",
      "         [0.0250, 0.0262, 0.0254,  ..., 0.0254, 0.0251, 0.0076],\n",
      "         ...,\n",
      "         [0.0348, 0.0230, 0.0231,  ..., 0.0231, 0.0243, 0.0320],\n",
      "         [0.0367, 0.0240, 0.0241,  ..., 0.0241, 0.0250, 0.0330],\n",
      "         [0.0355, 0.0210, 0.0211,  ..., 0.0211, 0.0215, 0.0341]],\n",
      "\n",
      "        [[0.0195, 0.0222, 0.0207,  ..., 0.0207, 0.0205, 0.0045],\n",
      "         [0.0250, 0.0262, 0.0254,  ..., 0.0254, 0.0251, 0.0076],\n",
      "         [0.0250, 0.0262, 0.0254,  ..., 0.0254, 0.0251, 0.0076],\n",
      "         ...,\n",
      "         [0.0348, 0.0230, 0.0231,  ..., 0.0231, 0.0243, 0.0320],\n",
      "         [0.0367, 0.0240, 0.0241,  ..., 0.0241, 0.0250, 0.0330],\n",
      "         [0.0355, 0.0210, 0.0211,  ..., 0.0211, 0.0215, 0.0341]],\n",
      "\n",
      "        [[0.0195, 0.0222, 0.0207,  ..., 0.0207, 0.0205, 0.0045],\n",
      "         [0.0250, 0.0262, 0.0254,  ..., 0.0254, 0.0251, 0.0076],\n",
      "         [0.0250, 0.0262, 0.0254,  ..., 0.0254, 0.0251, 0.0076],\n",
      "         ...,\n",
      "         [0.0348, 0.0230, 0.0231,  ..., 0.0231, 0.0243, 0.0320],\n",
      "         [0.0367, 0.0240, 0.0241,  ..., 0.0241, 0.0250, 0.0330],\n",
      "         [0.0355, 0.0210, 0.0211,  ..., 0.0211, 0.0215, 0.0341]]],\n",
      "       grad_fn=<DivBackward0>))\n"
     ]
    }
   ],
   "source": [
    "resnet50=ResNet50(751)\n",
    "imgs=torch.Tensor(32,3,256,128)\n",
    "resnet50.eval()\n",
    "f=resnet50(imgs)\n",
    "print(f)\n",
    "torch.save(resnet50, \"resnet50.pt\")"
   ],
   "metadata": {
    "collapsed": false,
    "ExecuteTime": {
     "end_time": "2024-05-22T12:58:20.519308700Z",
     "start_time": "2024-05-22T12:58:17.518024700Z"
    }
   },
   "id": "383deb28d3ba0f87"
  },
  {
   "cell_type": "code",
   "execution_count": null,
   "outputs": [],
   "source": [
    "resnet50=ResNet50(751)\n",
    "resnet50.eval()\n",
    "f=resnet50(imgs)"
   ],
   "metadata": {
    "collapsed": false,
    "ExecuteTime": {
     "start_time": "2024-05-22T12:52:53.709396300Z"
    }
   },
   "id": "2e978c954277f63f"
  },
  {
   "cell_type": "code",
   "execution_count": 5,
   "outputs": [],
   "source": [
    "resnet = torchvision.models.resnet50(pretrained=True)"
   ],
   "metadata": {
    "collapsed": false,
    "ExecuteTime": {
     "end_time": "2024-05-22T12:14:59.718822Z",
     "start_time": "2024-05-22T12:14:59.323820700Z"
    }
   },
   "id": "9a6ad737a1103599"
  },
  {
   "cell_type": "code",
   "execution_count": 9,
   "outputs": [],
   "source": [
    "tmp=nn.Sequential(*list(resnet50.children())[:-2])"
   ],
   "metadata": {
    "collapsed": false,
    "ExecuteTime": {
     "end_time": "2024-05-22T12:22:19.148570500Z",
     "start_time": "2024-05-22T12:22:19.137634700Z"
    }
   },
   "id": "d53be4cbb1dbf331"
  },
  {
   "cell_type": "code",
   "execution_count": 17,
   "outputs": [],
   "source": [
    "tmp2=list(resnet.children())[:5]"
   ],
   "metadata": {
    "collapsed": false,
    "ExecuteTime": {
     "end_time": "2024-05-22T12:25:26.437988900Z",
     "start_time": "2024-05-22T12:25:26.430748700Z"
    }
   },
   "id": "f7ad949f665e7151"
  },
  {
   "cell_type": "code",
   "execution_count": 28,
   "outputs": [
    {
     "name": "stdout",
     "output_type": "stream",
     "text": [
      "torch.Size([32, 8192])\n"
     ]
    }
   ],
   "source": [
    "# 假设 tmp 是形状为 (32, 64, 16, 8) 的张量\n",
    "tmp = torch.randn(32, 64, 16, 8)\n",
    "\n",
    "# 将 tmp 进行张平操作\n",
    "# 注意：在保持 batch 维度不变的情况下，对后续维度进行张平\n",
    "tmp_flattened = torch.flatten(tmp, start_dim=1)\n",
    "\n",
    "# 输出形状为 (32, 2048, 8)\n",
    "print(tmp_flattened.shape)"
   ],
   "metadata": {
    "collapsed": false,
    "ExecuteTime": {
     "end_time": "2024-05-22T12:36:20.653305100Z",
     "start_time": "2024-05-22T12:36:20.606305800Z"
    }
   },
   "id": "782871c019b3f73b"
  },
  {
   "cell_type": "code",
   "execution_count": 47,
   "outputs": [
    {
     "name": "stdout",
     "output_type": "stream",
     "text": [
      "torch.Size([32, 2048, 8, 1])\n"
     ]
    }
   ],
   "source": [
    "import torch\n",
    "\n",
    "# 假设 tmp 是形状为 (32, 128, 16, 8) 的张量\n",
    "tmp = torch.randn(32, 128, 16, 8)\n",
    "\n",
    "# 合并通道维度和剩余维度，并将结果变形为 (32, 2048, 8)\n",
    "tmp_merged = tmp.view(tmp.size(0), -1, tmp.size(-1))\n",
    "\n",
    "# 添加新的维度，使其形状为 (32, 2048, 8, 1)\n",
    "tmp_reshaped = tmp_merged.unsqueeze(-1)\n",
    "\n",
    "# 输出形状为 (32, 2048, 8, 1)\n",
    "print(tmp_reshaped.shape)"
   ],
   "metadata": {
    "collapsed": false,
    "ExecuteTime": {
     "end_time": "2024-05-22T12:56:42.519503500Z",
     "start_time": "2024-05-22T12:56:42.503922600Z"
    }
   },
   "id": "e5056c3a978aa664"
  },
  {
   "cell_type": "code",
   "execution_count": null,
   "outputs": [],
   "source": [],
   "metadata": {
    "collapsed": false
   },
   "id": "642fcd064a94aab2"
  }
 ],
 "metadata": {
  "kernelspec": {
   "display_name": "Python 3",
   "language": "python",
   "name": "python3"
  },
  "language_info": {
   "codemirror_mode": {
    "name": "ipython",
    "version": 2
   },
   "file_extension": ".py",
   "mimetype": "text/x-python",
   "name": "python",
   "nbconvert_exporter": "python",
   "pygments_lexer": "ipython2",
   "version": "2.7.6"
  }
 },
 "nbformat": 4,
 "nbformat_minor": 5
}
